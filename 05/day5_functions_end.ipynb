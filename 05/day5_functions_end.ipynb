{
 "cells": [
  {
   "cell_type": "code",
   "execution_count": null,
   "metadata": {},
   "outputs": [],
   "source": []
  },
  {
   "cell_type": "code",
   "execution_count": 4,
   "metadata": {},
   "outputs": [],
   "source": [
    "items = [\"Mic\", \"Phone\", 323.12, 3123.123, \"Justin\", \"Bag\", \"Cliff Bars\", 134]\n",
    "str_items = []\n",
    "num_items = []"
   ]
  },
  {
   "cell_type": "code",
   "execution_count": 5,
   "metadata": {},
   "outputs": [],
   "source": [
    "for i in items:\n",
    "    if isinstance(i, float) or isinstance(i, int):\n",
    "        num_items.append(i)\n",
    "    elif isinstance(i, str):\n",
    "        str_items.append(i)\n",
    "    else:\n",
    "        pass"
   ]
  },
  {
   "cell_type": "code",
   "execution_count": 6,
   "metadata": {},
   "outputs": [
    {
     "name": "stdout",
     "output_type": "stream",
     "text": [
      "['Mic', 'Phone', 'Justin', 'Bag', 'Cliff Bars']\n",
      "[323.12, 3123.123, 134]\n"
     ]
    }
   ],
   "source": [
    "print(str_items)\n",
    "print(num_items)"
   ]
  },
  {
   "cell_type": "code",
   "execution_count": 7,
   "metadata": {},
   "outputs": [],
   "source": [
    "def parse_lists(abc):\n",
    "    str_list_items = []\n",
    "    num_list_items = []\n",
    "    for i in abc:\n",
    "        if isinstance(i, float) or isinstance(i, int):\n",
    "            num_list_items.append(i)\n",
    "        elif isinstance(i, str):\n",
    "            str_list_items.append(i)\n",
    "        else:\n",
    "            pass\n",
    "    return str_list_items, num_list_items"
   ]
  },
  {
   "cell_type": "code",
   "execution_count": 8,
   "metadata": {},
   "outputs": [
    {
     "name": "stdout",
     "output_type": "stream",
     "text": [
      "(['Mic', 'Phone', 'Justin', 'Bag', 'Cliff Bars'], [323.12, 3123.123, 134])\n"
     ]
    }
   ],
   "source": [
    "'''Def Call'''\n",
    "print(parse_lists(items))"
   ]
  },
  {
   "cell_type": "code",
   "execution_count": 9,
   "metadata": {},
   "outputs": [],
   "source": [
    "list_item = [123, 3234, \"adfasd\"]\n",
    "items2 = [\"Mic\", \"Phone\", list_item]"
   ]
  },
  {
   "cell_type": "code",
   "execution_count": 10,
   "metadata": {},
   "outputs": [
    {
     "name": "stdout",
     "output_type": "stream",
     "text": [
      "(['Mic', 'Phone'], [])\n"
     ]
    }
   ],
   "source": [
    "print(parse_lists(items2))"
   ]
  },
  {
   "cell_type": "code",
   "execution_count": 11,
   "metadata": {},
   "outputs": [],
   "source": [
    "items3 = [\"Mic\", \"Phone\", 323.12, 3123.123, \"Justin\", \"Bag\", \"Cliff Bars\", 134]"
   ]
  },
  {
   "cell_type": "code",
   "execution_count": 12,
   "metadata": {},
   "outputs": [
    {
     "data": {
      "text/plain": [
       "869"
      ]
     },
     "execution_count": 12,
     "metadata": {},
     "output_type": "execute_result"
    }
   ],
   "source": [
    "sum([123, 323, 423])"
   ]
  },
  {
   "cell_type": "code",
   "execution_count": 14,
   "metadata": {},
   "outputs": [],
   "source": [
    "def my_sum(my_num_list):\n",
    "    total = 0\n",
    "    for i in my_num_list:\n",
    "        if isinstance(i, float) or isinstance(i, int):\n",
    "            total += i\n",
    "    return total\n",
    "\n",
    "    #if isinstance(i, float) or isinstance(i, int):\n",
    "\n",
    "def count_nums(my_num_list):\n",
    "    total = 0\n",
    "    for i in my_num_list:\n",
    "        if isinstance(i, float) or isinstance(i, int):\n",
    "            total += 1\n",
    "    return total"
   ]
  },
  {
   "cell_type": "code",
   "execution_count": 15,
   "metadata": {
    "scrolled": true
   },
   "outputs": [
    {
     "ename": "TypeError",
     "evalue": "unsupported operand type(s) for +: 'int' and 'str'",
     "output_type": "error",
     "traceback": [
      "\u001b[0;31m---------------------------------------------------------------------------\u001b[0m",
      "\u001b[0;31mTypeError\u001b[0m                                 Traceback (most recent call last)",
      "\u001b[0;32m<ipython-input-15-1aaa2ddb75ea>\u001b[0m in \u001b[0;36m<module>\u001b[0;34m\u001b[0m\n\u001b[0;32m----> 1\u001b[0;31m \u001b[0msum\u001b[0m\u001b[0;34m(\u001b[0m\u001b[0mitems3\u001b[0m\u001b[0;34m)\u001b[0m\u001b[0;34m\u001b[0m\u001b[0;34m\u001b[0m\u001b[0m\n\u001b[0m",
      "\u001b[0;31mTypeError\u001b[0m: unsupported operand type(s) for +: 'int' and 'str'"
     ]
    }
   ],
   "source": [
    "sum(items3)"
   ]
  },
  {
   "cell_type": "code",
   "execution_count": 22,
   "metadata": {},
   "outputs": [
    {
     "data": {
      "text/plain": [
       "3580.243"
      ]
     },
     "execution_count": 22,
     "metadata": {},
     "output_type": "execute_result"
    }
   ],
   "source": [
    "my_sum(items3)"
   ]
  },
  {
   "cell_type": "code",
   "execution_count": 23,
   "metadata": {},
   "outputs": [
    {
     "data": {
      "text/plain": [
       "3"
      ]
     },
     "execution_count": 23,
     "metadata": {},
     "output_type": "execute_result"
    }
   ],
   "source": [
    "count_nums(items3)"
   ]
  },
  {
   "cell_type": "code",
   "execution_count": 19,
   "metadata": {},
   "outputs": [
    {
     "data": {
      "text/plain": [
       "1193.4143333333334"
      ]
     },
     "execution_count": 19,
     "metadata": {},
     "output_type": "execute_result"
    }
   ],
   "source": [
    "def my_avg(my_num_list):\n",
    "    the_sum = my_sum(my_num_list)\n",
    "    #num_of_items = len(my_num_list)\n",
    "    num_of_items = count_nums(my_num_list)\n",
    "    return the_sum / (num_of_items * 1.0)\n",
    "\n",
    "my_avg(items3)"
   ]
  },
  {
   "cell_type": "code",
   "execution_count": null,
   "metadata": {},
   "outputs": [],
   "source": []
  },
  {
   "cell_type": "code",
   "execution_count": null,
   "metadata": {},
   "outputs": [],
   "source": []
  },
  {
   "cell_type": "code",
   "execution_count": null,
   "metadata": {},
   "outputs": [],
   "source": []
  }
 ],
 "metadata": {
  "kernelspec": {
   "display_name": "Python 3",
   "language": "python",
   "name": "python3"
  },
  "language_info": {
   "codemirror_mode": {
    "name": "ipython",
    "version": 3
   },
   "file_extension": ".py",
   "mimetype": "text/x-python",
   "name": "python",
   "nbconvert_exporter": "python",
   "pygments_lexer": "ipython3",
   "version": "3.7.3"
  }
 },
 "nbformat": 4,
 "nbformat_minor": 2
}
